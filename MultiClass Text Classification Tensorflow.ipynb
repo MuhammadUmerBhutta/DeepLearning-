{
  "nbformat": 4,
  "nbformat_minor": 0,
  "metadata": {
    "colab": {
      "name": "Untitled3.ipynb",
      "provenance": []
    },
    "kernelspec": {
      "name": "python3",
      "display_name": "Python 3"
    },
    "language_info": {
      "name": "python"
    }
  },
  "cells": [
    {
      "cell_type": "code",
      "execution_count": 41,
      "metadata": {
        "id": "_Xc_T1ElISu1"
      },
      "outputs": [],
      "source": [
        "import matplotlib.pyplot as plt\n",
        "import seaborn as sns\n",
        "import numpy as np\n",
        "import tensorflow as tf\n",
        "from sklearn.metrics import accuracy_score, precision_score, recall_score, f1_score, confusion_matrix, classification_report\n",
        "from sklearn.preprocessing import OneHotEncoder\n",
        "from sklearn.datasets import fetch_20newsgroups\n",
        "from sklearn.feature_extraction.text import CountVectorizer\n",
        "from sklearn.feature_extraction.text import TfidfTransformer\n",
        "from sklearn.linear_model import SGDClassifier\n",
        "from sklearn.pipeline import Pipeline\n",
        "from tensorflow.keras.preprocessing.text import Tokenizer\n",
        "from tensorflow.keras.preprocessing.sequence import pad_sequences\n",
        "from tensorflow.keras import Sequential\n",
        "from tensorflow.keras.layers import Flatten, Dense, Embedding, Conv1D, GlobalMaxPooling1D, Dropout\n",
        "from tensorflow.keras.callbacks import EarlyStopping, ReduceLROnPlateau\n",
        "from pylab import savefig"
      ]
    },
    {
      "cell_type": "code",
      "source": [
        "from sklearn.model_selection import train_test_split\n",
        "import pandas as pd"
      ],
      "metadata": {
        "id": "5wTEi423LrWT"
      },
      "execution_count": 22,
      "outputs": []
    },
    {
      "cell_type": "markdown",
      "source": [
        "## IMporting the dataset from sklearn"
      ],
      "metadata": {
        "id": "Yovv6yqUMqgL"
      }
    },
    {
      "cell_type": "code",
      "source": [
        "categories = ['alt.atheism', 'soc.religion.christian', 'comp.graphics', 'sci.med']\n",
        "data_train = fetch_20newsgroups(subset='train', categories=categories, shuffle=True, random_state=42)"
      ],
      "metadata": {
        "id": "zXf62QODI4Eg"
      },
      "execution_count": 8,
      "outputs": []
    },
    {
      "cell_type": "markdown",
      "source": [
        "## data preprocessing and splitting"
      ],
      "metadata": {
        "id": "tGGWIlscMvVr"
      }
    },
    {
      "cell_type": "code",
      "source": [
        "\n",
        "news = data_train.data\n",
        "labels = data_train.target\n",
        "\n",
        "X_train, y_train, X_test, y_test = train_test_split(news,labels, test_size = 0.20, random_state = 42)\n"
      ],
      "metadata": {
        "id": "IDDb988YKTcQ"
      },
      "execution_count": 11,
      "outputs": []
    },
    {
      "cell_type": "code",
      "source": [
        "vocab_size = 50000\n",
        "tokenizer = Tokenizer(num_words=vocab_size, oov_token='<OOV>')\n",
        "tokenizer.fit_on_texts(X_train)\n",
        "word_index = tokenizer.word_index"
      ],
      "metadata": {
        "id": "RZ8M0nZWL9Sa"
      },
      "execution_count": 13,
      "outputs": []
    },
    {
      "cell_type": "code",
      "source": [
        "embedding_dim = 128\n",
        "max_length = 200"
      ],
      "metadata": {
        "id": "GKs8mYhRMNnS"
      },
      "execution_count": 16,
      "outputs": []
    },
    {
      "cell_type": "code",
      "source": [
        "train_seq = tokenizer.texts_to_sequences(X_train)\n",
        "train_padded = pad_sequences(train_seq, maxlen=max_length, padding='post', truncating='post')\n",
        "\n",
        "validation_seq = tokenizer.texts_to_sequences(y_train)\n",
        "validation_padded = pad_sequences(validation_seq, maxlen=max_length, padding='post', truncating='post')"
      ],
      "metadata": {
        "id": "TncmdOpcN5uz"
      },
      "execution_count": 18,
      "outputs": []
    },
    {
      "cell_type": "code",
      "source": [
        "training_labels = pd.get_dummies(X_test)\n",
        "validation_labels = pd.get_dummies(y_test)"
      ],
      "metadata": {
        "id": "XZKc3eOEOcdy"
      },
      "execution_count": 23,
      "outputs": []
    },
    {
      "cell_type": "markdown",
      "source": [
        "### MODEL"
      ],
      "metadata": {
        "id": "9VqCANsAKZe7"
      }
    },
    {
      "cell_type": "code",
      "source": [
        "model = Sequential()\n",
        "model.add(Embedding(vocab_size, embedding_dim, input_length=train_padded.shape[1]))\n",
        "\n",
        "model.add(Conv1D(48, 5, activation='relu', padding='valid'))\n",
        "model.add(GlobalMaxPooling1D())\n",
        "model.add(Dropout(0.5))\n",
        "\n",
        "model.add(Flatten())\n",
        "model.add(Dropout(0.5))\n",
        "\n",
        "model.add(Dense(4, activation='softmax'))\n",
        "model.compile(loss='binary_crossentropy', optimizer='adam', metrics=['accuracy'])\n"
      ],
      "metadata": {
        "id": "XqLMZVwKKP_U"
      },
      "execution_count": 35,
      "outputs": []
    },
    {
      "cell_type": "markdown",
      "source": [
        "## TRAINING OF THE MODEL"
      ],
      "metadata": {
        "id": "M-g36X6WKUt7"
      }
    },
    {
      "cell_type": "code",
      "source": [
        "training_labels = training_labels.to_numpy()\n",
        "validation_labels = validation_labels.to_numpy()"
      ],
      "metadata": {
        "id": "n-aMXCKqOUZa"
      },
      "execution_count": 26,
      "outputs": []
    },
    {
      "cell_type": "code",
      "source": [
        "epochs = 20\n",
        "batch_size = 32\n",
        "history = model.fit(train_padded, training_labels, shuffle=True ,\n",
        "                    epochs=epochs, batch_size=batch_size, \n",
        "                    validation_split=0.2,\n",
        "                    callbacks=[ReduceLROnPlateau(monitor='val_loss', factor=0.2, patience=5, min_lr=0.0001), \n",
        "                               EarlyStopping(monitor='val_loss', mode='min', patience=2, verbose=1),\n",
        "                               EarlyStopping(monitor='val_accuracy', mode='max', patience=5, verbose=1)])"
      ],
      "metadata": {
        "colab": {
          "base_uri": "https://localhost:8080/"
        },
        "id": "rNLZR5YmOVB-",
        "outputId": "8b98f335-ebf3-42ac-f9fd-5cb4559405aa"
      },
      "execution_count": 38,
      "outputs": [
        {
          "output_type": "stream",
          "name": "stdout",
          "text": [
            "Epoch 1/20\n",
            "46/46 [==============================] - 5s 113ms/step - loss: 0.2647 - accuracy: 0.8345 - val_loss: 0.2228 - val_accuracy: 0.9114 - lr: 0.0010\n",
            "Epoch 2/20\n",
            "46/46 [==============================] - 5s 112ms/step - loss: 0.2206 - accuracy: 0.8788 - val_loss: 0.1918 - val_accuracy: 0.9169 - lr: 0.0010\n",
            "Epoch 3/20\n",
            "46/46 [==============================] - 5s 113ms/step - loss: 0.1878 - accuracy: 0.9010 - val_loss: 0.1684 - val_accuracy: 0.9280 - lr: 0.0010\n",
            "Epoch 4/20\n",
            "46/46 [==============================] - 5s 113ms/step - loss: 0.1584 - accuracy: 0.9162 - val_loss: 0.1518 - val_accuracy: 0.9280 - lr: 0.0010\n",
            "Epoch 5/20\n",
            "46/46 [==============================] - 5s 115ms/step - loss: 0.1363 - accuracy: 0.9301 - val_loss: 0.1383 - val_accuracy: 0.9280 - lr: 0.0010\n",
            "Epoch 6/20\n",
            "46/46 [==============================] - 5s 112ms/step - loss: 0.1192 - accuracy: 0.9474 - val_loss: 0.1305 - val_accuracy: 0.9307 - lr: 0.0010\n",
            "Epoch 7/20\n",
            "46/46 [==============================] - 5s 113ms/step - loss: 0.1113 - accuracy: 0.9391 - val_loss: 0.1233 - val_accuracy: 0.9307 - lr: 0.0010\n",
            "Epoch 8/20\n",
            "46/46 [==============================] - 5s 113ms/step - loss: 0.1047 - accuracy: 0.9460 - val_loss: 0.1193 - val_accuracy: 0.9363 - lr: 0.0010\n",
            "Epoch 9/20\n",
            "46/46 [==============================] - 5s 114ms/step - loss: 0.0997 - accuracy: 0.9481 - val_loss: 0.1177 - val_accuracy: 0.9335 - lr: 0.0010\n",
            "Epoch 10/20\n",
            "46/46 [==============================] - 5s 112ms/step - loss: 0.0845 - accuracy: 0.9515 - val_loss: 0.1155 - val_accuracy: 0.9307 - lr: 0.0010\n",
            "Epoch 11/20\n",
            "46/46 [==============================] - 5s 112ms/step - loss: 0.0905 - accuracy: 0.9418 - val_loss: 0.1143 - val_accuracy: 0.9280 - lr: 0.0010\n",
            "Epoch 12/20\n",
            "46/46 [==============================] - 6s 140ms/step - loss: 0.0667 - accuracy: 0.9640 - val_loss: 0.1128 - val_accuracy: 0.9280 - lr: 0.0010\n",
            "Epoch 13/20\n",
            "46/46 [==============================] - 5s 114ms/step - loss: 0.0678 - accuracy: 0.9640 - val_loss: 0.1128 - val_accuracy: 0.9252 - lr: 0.0010\n",
            "Epoch 13: early stopping\n"
          ]
        }
      ]
    },
    {
      "cell_type": "code",
      "source": [
        "plt.title('Loss')\n",
        "plt.plot(history.history['loss'], label='train')\n",
        "plt.plot(history.history['val_loss'], label='test')\n",
        "plt.legend()\n",
        "plt.show();\n",
        "\n",
        "plt.title('Accuracy')\n",
        "plt.plot(history.history['accuracy'], label='train')\n",
        "plt.plot(history.history['val_accuracy'], label='test')\n",
        "plt.legend()\n",
        "plt.show();"
      ],
      "metadata": {
        "colab": {
          "base_uri": "https://localhost:8080/",
          "height": 545
        },
        "id": "kwPjhXoJPvIn",
        "outputId": "63498e6a-6f84-442b-a5a7-4aaee18e17b7"
      },
      "execution_count": 42,
      "outputs": [
        {
          "output_type": "display_data",
          "data": {
            "text/plain": [
              "<Figure size 432x288 with 1 Axes>"
            ],
            "image/png": "[encoded data removed]"
          },
          "metadata": {}
        },
        {
          "output_type": "display_data",
          "data": {
            "text/plain": [
              "<Figure size 432x288 with 1 Axes>"
            ],
            "image/png": "[encoded data removed]"
          },
          "metadata": {}
        }
      ]
    },
    {
      "cell_type": "markdown",
      "source": [
        "## PREDICATION NAD ACCURACY"
      ],
      "metadata": {
        "id": "zcy9y4ptSZ0Z"
      }
    },
    {
      "cell_type": "code",
      "source": [
        "def evaluate_preds(y_true, y_preds):\n",
        "    \"\"\"\n",
        "    Performs evaluation comparison on y_true labels vs. y_pred labels\n",
        "    on a classification.\n",
        "    \"\"\"\n",
        "    accuracy = accuracy_score(y_true, y_preds)\n",
        "    precision = precision_score(y_true, y_preds, average='micro')\n",
        "    recall = recall_score(y_true, y_preds, average='micro')\n",
        "    f1 = f1_score(y_true, y_preds, average='micro')\n",
        "    metric_dict = {\"accuracy\": round(accuracy, 2),\n",
        "                   \"precision\": round(precision, 2),\n",
        "                   \"recall\": round(recall, 2),\n",
        "                   \"f1\": round(f1, 2)}\n",
        "    print(f\"Acc: {accuracy * 100:.2f}%\")\n",
        "    print(f\"Precision: {precision:.2f}\")\n",
        "    print(f\"Recall: {recall:.2f}\")\n",
        "    print(f\"F1 score: {f1:.2f}\")\n",
        "    \n",
        "    return metric_dict\n",
        "\n",
        "# Now we make predictions using the test data to see how the model performs\n",
        "\n",
        "predicted = model.predict(validation_padded)\n",
        "evaluate_preds(np.argmax(validation_labels, axis=1), np.argmax(predicted, axis=1))\n"
      ],
      "metadata": {
        "colab": {
          "base_uri": "https://localhost:8080/"
        },
        "id": "dytNNRwAR2-P",
        "outputId": "7559676f-7a75-471c-a223-37a85925b3d0"
      },
      "execution_count": 43,
      "outputs": [
        {
          "output_type": "stream",
          "name": "stdout",
          "text": [
            "Acc: 96.24%\n",
            "Precision: 0.96\n",
            "Recall: 0.96\n",
            "F1 score: 0.96\n"
          ]
        },
        {
          "output_type": "execute_result",
          "data": {
            "text/plain": [
              "{'accuracy': 0.96, 'f1': 0.96, 'precision': 0.96, 'recall': 0.96}"
            ]
          },
          "metadata": {},
          "execution_count": 43
        }
      ]
    }
  ]
}